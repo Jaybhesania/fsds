{
 "cells": [
  {
   "cell_type": "markdown",
   "id": "18304eb3",
   "metadata": {},
   "source": [
    "# Assignment 3 Solution"
   ]
  },
  {
   "cell_type": "markdown",
   "id": "aa44fbfb",
   "metadata": {},
   "source": [
    "**1.** Why are functions advantageous to have in your programs?\n",
    "\n",
    "**Ans:** Functions are advantageous to have in your programs because they allow you to break your code into smaller, reusable parts that can be called as needed. This makes your code more modular, easier to read, and easier to maintain.\n",
    "\n",
    "****"
   ]
  },
  {
   "cell_type": "markdown",
   "id": "7c0690da",
   "metadata": {},
   "source": [
    "**2.** When does the code in a function run: when it's specified or when it's called?\n",
    "\n",
    "**Ans:** The code in a function runs when it is called, not when it is specified.\n",
    "\n",
    "****"
   ]
  },
  {
   "cell_type": "markdown",
   "id": "fe3c6c03",
   "metadata": {},
   "source": [
    "**3.** What statement creates a function?\n",
    "\n",
    "**Ans:** The def statement creates a function in Python.\n",
    "\n",
    "****"
   ]
  },
  {
   "cell_type": "markdown",
   "id": "37bd6173",
   "metadata": {},
   "source": [
    "**4.** What is the difference between a function and a function call?\n",
    "\n",
    "**Ans:** A function is a block of code that performs a specific task and may or may not return a value. A function call is the code that executes the function and passes any necessary arguments.\n",
    "\n",
    "****"
   ]
  },
  {
   "cell_type": "markdown",
   "id": "ada5d9be",
   "metadata": {},
   "source": [
    "**5.** How many global scopes are there in a Python program? How many local scopes?\n",
    "\n",
    "**Ans:** There is only one global scope in a Python program, but there can be multiple local scopes, one for each function.\n",
    "\n",
    "****"
   ]
  },
  {
   "cell_type": "markdown",
   "id": "af8f0882",
   "metadata": {},
   "source": [
    "**6.** What happens to variables in a local scope when the function call returns?\n",
    "\n",
    "**Ans:** When a function call returns, the variables in the local scope are destroyed.\n",
    "\n",
    "****"
   ]
  },
  {
   "cell_type": "markdown",
   "id": "dea32a7a",
   "metadata": {},
   "source": [
    "**7.** What is the concept of a return value? Is it possible to have a return value in an expression?\n",
    "\n",
    "**Ans:** A return value is the value that a function returns when it is called. It is possible to have a return value in an expression, for example: x = my_function() + 5\n",
    "\n",
    "****"
   ]
  },
  {
   "cell_type": "markdown",
   "id": "3418d907",
   "metadata": {},
   "source": [
    "**8.** If a function does not have a return statement, what is the return value of a call to that function?\n",
    "\n",
    "**Ans:** If a function does not have a return statement, the return value of a call to that function is None.\n",
    "\n",
    "****"
   ]
  },
  {
   "cell_type": "markdown",
   "id": "48b0b59a",
   "metadata": {},
   "source": [
    "**9.** How do you make a function variable refer to the global variable?\n",
    "\n",
    "**Ans:** To make a function variable refer to a global variable, you can use the global keyword, like this: global my_variable\n",
    "\n",
    "****"
   ]
  },
  {
   "cell_type": "markdown",
   "id": "2f62d5c8",
   "metadata": {},
   "source": [
    "**10.** What is the data type of None?\n",
    "\n",
    "**Ans:** The data type of None is NoneType. It represents the absence of a value.\n",
    "\n",
    "****"
   ]
  },
  {
   "cell_type": "markdown",
   "id": "9f8aca7a",
   "metadata": {},
   "source": [
    "**11.** What does the sentence import areallyourpetsnamederic do?\n",
    "\n",
    "**Ans:** The sentence import areallyourpetsnamederic would attempt to import a module named areallyourpetsnamederic. If such a module existed, it would be imported into the current namespace.\n",
    "\n",
    "****"
   ]
  },
  {
   "cell_type": "markdown",
   "id": "e7009e71",
   "metadata": {},
   "source": [
    "**12.** If you had a bacon() feature in a spam module, what would you call it after importing spam?\n",
    "\n",
    "**Ans:** After importing spam, you would call the bacon() feature using the dot notation like this: spam.bacon()\n",
    "\n",
    "****"
   ]
  },
  {
   "cell_type": "markdown",
   "id": "8757e78b",
   "metadata": {},
   "source": [
    "**13.** What can you do to save a programme from crashing if it encounters an error?\n",
    "\n",
    "**Ans:** You can use exception handling to catch and handle errors, so that your program can continue running even if it encounters an error. You can use the try-except statement to catch exceptions and handle them gracefully.\n",
    "\n",
    "****"
   ]
  },
  {
   "cell_type": "markdown",
   "id": "a1db5a1c",
   "metadata": {},
   "source": [
    "**14.** What is the purpose of the try clause? What is the purpose of the except clause?\n",
    "\n",
    "**Ans:** The try clause is used to enclose code that may raise an exception. The except clause is used to specify the type of exception to catch and the code to execute if that exception is raised.\n",
    "\n",
    "****"
   ]
  },
  {
   "cell_type": "code",
   "execution_count": null,
   "id": "eaaecfe0",
   "metadata": {},
   "outputs": [],
   "source": []
  }
 ],
 "metadata": {
  "kernelspec": {
   "display_name": "Python 3 (ipykernel)",
   "language": "python",
   "name": "python3"
  },
  "language_info": {
   "codemirror_mode": {
    "name": "ipython",
    "version": 3
   },
   "file_extension": ".py",
   "mimetype": "text/x-python",
   "name": "python",
   "nbconvert_exporter": "python",
   "pygments_lexer": "ipython3",
   "version": "3.9.13"
  }
 },
 "nbformat": 4,
 "nbformat_minor": 5
}
