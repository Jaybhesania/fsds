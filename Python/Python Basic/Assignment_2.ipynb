{
 "cells": [
  {
   "cell_type": "markdown",
   "id": "c3940482",
   "metadata": {},
   "source": [
    "# Assignment 2 Solution"
   ]
  },
  {
   "cell_type": "markdown",
   "id": "20cc7524",
   "metadata": {},
   "source": [
    "**1.** What are the two values of the Boolean data type? How do you write them?"
   ]
  },
  {
   "cell_type": "markdown",
   "id": "3bca936b",
   "metadata": {},
   "source": [
    "**Ans:** The two values of the Boolean data type are True and False. They are written in Python as True and False, respectively.\n",
    "\n",
    "****"
   ]
  },
  {
   "cell_type": "markdown",
   "id": "293b3fea",
   "metadata": {},
   "source": [
    "**2.** What are the three different types of Boolean operators?"
   ]
  },
  {
   "cell_type": "markdown",
   "id": "64db0dad",
   "metadata": {},
   "source": [
    "**Ans:** The three different types of Boolean operators are \"and\", \"or\", and \"not\".\n",
    "\n",
    "****"
   ]
  },
  {
   "cell_type": "markdown",
   "id": "7cb07fe0",
   "metadata": {},
   "source": [
    "**3.** Make a list of each Boolean operator's truth tables (i.e. every possible combination of Boolean values for the operator and what it evaluate)."
   ]
  },
  {
   "cell_type": "markdown",
   "id": "394f11e3",
   "metadata": {},
   "source": [
    "**Ans:** \"AND\" operator: \n",
    "True and True = **True**, \n",
    "True and False = **False**, \n",
    "False and True = **False**, \n",
    "False and False = **False**, \n",
    "\n",
    "\"OR\" operator: \n",
    "True or True = **True**, \n",
    "True or False = **True**, \n",
    "False or True = **True**, \n",
    "False or False = **False**, \n",
    "\n",
    "\"NOT\" operator: \n",
    "not True = **False**, \n",
    "not False = **True**\n",
    "\n",
    "****"
   ]
  },
  {
   "cell_type": "markdown",
   "id": "05e3cc0b",
   "metadata": {},
   "source": [
    "**4.** What are the values of the following expressions?\n",
    "\n",
    "(5 > 4) and (3 == 5)\n",
    "\n",
    "not (5 > 4)\n",
    "\n",
    "(5 > 4) or (3 == 5)\n",
    "\n",
    "not ((5 > 4) or (3 == 5))\n",
    "\n",
    "(True and True) and (True == False)\n",
    "\n",
    "(not False) or (not True)"
   ]
  },
  {
   "cell_type": "markdown",
   "id": "2fc83f17",
   "metadata": {},
   "source": [
    "**Ans:** The values of the following expressions are:\n",
    "\n",
    "(5 > 4) and (3 == 5) = **False**\n",
    "\n",
    "not (5 > 4) = **False**\n",
    "\n",
    "(5 > 4) or (3 == 5) = **True**\n",
    "\n",
    "not ((5 > 4) or (3 == 5)) = **False**\n",
    "\n",
    "(True and True) and (True == False) = **False**\n",
    "\n",
    "(not False) or (not True) = **True**\n",
    "\n",
    "****"
   ]
  },
  {
   "cell_type": "markdown",
   "id": "d6f9d233",
   "metadata": {},
   "source": [
    "**5.** What are the six comparison operators?"
   ]
  },
  {
   "cell_type": "markdown",
   "id": "47392964",
   "metadata": {},
   "source": [
    "**Ans:** The six comparison operators are:\n",
    "\n",
    "Equal to (==)\n",
    "Not equal to (!=)\n",
    "Greater than (>)\n",
    "Less than (<)\n",
    "Greater than or equal to (>=)\n",
    "Less than or equal to (<=)\n",
    "\n",
    "****"
   ]
  },
  {
   "cell_type": "markdown",
   "id": "8ab07fc4",
   "metadata": {},
   "source": [
    "**6.** How do you tell the difference between the equal to and assignment operators?Describe a\n",
    "condition and when you would use one."
   ]
  },
  {
   "cell_type": "markdown",
   "id": "fedabd6f",
   "metadata": {},
   "source": [
    "**Ans:** The equal to operator (==) is used to check if two values are equal, whereas the assignment operator (=) is used to assign a value to a variable. For example, if x = 5, the expression x == 5 would return True, while x = 5 would assign the value 5 to the variable x. A condition where you would use the equal to operator is in an if statement to check if a certain value is equal to a given variable. A condition where you would use the assignment operator is when you want to assign a value to a variable.\n",
    "\n",
    "****"
   ]
  },
  {
   "cell_type": "markdown",
   "id": "13532abc",
   "metadata": {},
   "source": [
    "**7.** Identify the three blocks in this code:\n",
    "\n",
    "spam = 0\n",
    "\n",
    "if spam == 10:\n",
    "\n",
    "    print(&#39;eggs&#39;)\n",
    "\n",
    "if spam &gt; 5:\n",
    "\n",
    "    print(&#39;bacon&#39;)\n",
    "\n",
    "else:\n",
    "\n",
    "    print(&#39;ham&#39;)\n",
    "\n",
    "    print(&#39;spam&#39;)\n",
    "\n",
    "    print(&#39;spam&#39;)"
   ]
  },
  {
   "cell_type": "markdown",
   "id": "68a6c3d4",
   "metadata": {},
   "source": [
    "**Ans:** The three blocks in this code are:\n",
    "\n",
    "The first block sets the variable spam to 0.\n",
    "\n",
    "The second block checks if spam is equal to 10, and if it is, it prints \"eggs\".\n",
    "\n",
    "The third block checks if spam is greater than 5. If it is, it prints \"bacon\". If it is not, it prints \"ham\". Finally, it prints \"spam\" twice.\n",
    "\n",
    "****"
   ]
  },
  {
   "cell_type": "markdown",
   "id": "c94df9e9",
   "metadata": {},
   "source": [
    "**8.** Write code that prints Hello if 1 is stored in spam, prints Howdy if 2 is stored in spam, and prints\n",
    "Greetings! if anything else is stored in spam."
   ]
  },
  {
   "cell_type": "markdown",
   "id": "eb4181c0",
   "metadata": {},
   "source": [
    "**Ans:** Here is the code that prints \"Hello\" if 1 is stored in spam, \"Howdy\" if 2 is stored in spam, and \"Greetings!\" if anything else is stored in spam:"
   ]
  },
  {
   "cell_type": "code",
   "execution_count": 1,
   "id": "1fc904da",
   "metadata": {},
   "outputs": [
    {
     "name": "stdout",
     "output_type": "stream",
     "text": [
      "Hello\n"
     ]
    }
   ],
   "source": [
    "spam = 1\n",
    "\n",
    "if spam == 1:\n",
    "    print(\"Hello\")\n",
    "elif spam == 2:\n",
    "    print(\"Howdy\")\n",
    "else:\n",
    "    print(\"Greetings!\")"
   ]
  },
  {
   "cell_type": "markdown",
   "id": "d216aa19",
   "metadata": {},
   "source": [
    "****"
   ]
  },
  {
   "cell_type": "markdown",
   "id": "fe34b93a",
   "metadata": {},
   "source": [
    "**9.** If your programme is stuck in an endless loop, what keys you’ll press?"
   ]
  },
  {
   "cell_type": "markdown",
   "id": "0d3d9feb",
   "metadata": {},
   "source": [
    "**Ans:** If your program is stuck in an endless loop, you can press Ctrl+C to interrupt the program.\n",
    "\n",
    "****"
   ]
  },
  {
   "cell_type": "markdown",
   "id": "19aeaba5",
   "metadata": {},
   "source": [
    "**10.** How can you tell the difference between break and continue?"
   ]
  },
  {
   "cell_type": "markdown",
   "id": "0e1bf7c0",
   "metadata": {},
   "source": [
    "**Ans:** The \"break\" statement is used to exit a loop, while the \"continue\" statement is used to skip over an iteration of a loop and continue to the next iteration. In other words, \"break\" stops the loop entirely, while \"continue\" only stops the current iteration and moves on to the next one.\n",
    "\n",
    "****"
   ]
  },
  {
   "cell_type": "markdown",
   "id": "bcf044ab",
   "metadata": {},
   "source": [
    "**11.** In a for loop, what is the difference between range(10), range(0, 10), and range(0, 10, 1)?"
   ]
  },
  {
   "cell_type": "markdown",
   "id": "c0142544",
   "metadata": {},
   "source": [
    "**Ans:** There is no difference between range(10) and range(0, 10) - both will generate a sequence of numbers from 0 to 9. The third argument of range() specifies the step size, so range(0, 10, 1) is the same as range(0, 10).\n",
    "\n",
    "****"
   ]
  },
  {
   "cell_type": "markdown",
   "id": "2dd858ae",
   "metadata": {},
   "source": [
    "**12.** Write a short program that prints the numbers 1 to 10 using a for loop. Then write an equivalent\n",
    "program that prints the numbers 1 to 10 using a while loop."
   ]
  },
  {
   "cell_type": "markdown",
   "id": "d834806f",
   "metadata": {},
   "source": [
    "**Ans:** Here is a short program that prints the numbers 1 to 10 using a for loop:"
   ]
  },
  {
   "cell_type": "code",
   "execution_count": 2,
   "id": "47cb75ec",
   "metadata": {},
   "outputs": [
    {
     "name": "stdout",
     "output_type": "stream",
     "text": [
      "1\n",
      "2\n",
      "3\n",
      "4\n",
      "5\n",
      "6\n",
      "7\n",
      "8\n",
      "9\n",
      "10\n"
     ]
    }
   ],
   "source": [
    "for i in range(1, 11):\n",
    "    print(i)"
   ]
  },
  {
   "cell_type": "markdown",
   "id": "85770eb8",
   "metadata": {},
   "source": [
    "And here is the equivalent program using a while loop:"
   ]
  },
  {
   "cell_type": "code",
   "execution_count": 3,
   "id": "7cfbad7d",
   "metadata": {},
   "outputs": [
    {
     "name": "stdout",
     "output_type": "stream",
     "text": [
      "1\n",
      "2\n",
      "3\n",
      "4\n",
      "5\n",
      "6\n",
      "7\n",
      "8\n",
      "9\n",
      "10\n"
     ]
    }
   ],
   "source": [
    "i = 1\n",
    "while i <= 10:\n",
    "    print(i)\n",
    "    i = i + 1"
   ]
  },
  {
   "cell_type": "code",
   "execution_count": null,
   "id": "6bfefb79",
   "metadata": {},
   "outputs": [],
   "source": []
  }
 ],
 "metadata": {
  "kernelspec": {
   "display_name": "Python 3 (ipykernel)",
   "language": "python",
   "name": "python3"
  },
  "language_info": {
   "codemirror_mode": {
    "name": "ipython",
    "version": 3
   },
   "file_extension": ".py",
   "mimetype": "text/x-python",
   "name": "python",
   "nbconvert_exporter": "python",
   "pygments_lexer": "ipython3",
   "version": "3.9.13"
  }
 },
 "nbformat": 4,
 "nbformat_minor": 5
}
