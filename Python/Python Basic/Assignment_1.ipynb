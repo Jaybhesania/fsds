{
 "cells": [
  {
   "cell_type": "markdown",
   "id": "b96284da",
   "metadata": {},
   "source": [
    "# Assignment Solution 1"
   ]
  },
  {
   "cell_type": "markdown",
   "id": "5639c671",
   "metadata": {},
   "source": [
    "**1.** In the below elements which of them are values or an expression? eg:- values can be integer or string and expressions will be mathematical operators."
   ]
  },
  {
   "cell_type": "markdown",
   "id": "50869620",
   "metadata": {},
   "source": [
    "*, 'hello', -87.8, -, /, +, 6"
   ]
  },
  {
   "cell_type": "markdown",
   "id": "a70a51db",
   "metadata": {},
   "source": [
    "**Ans:** There are a total of 3 Values or Expressions, They are:\n",
    "\n",
    "Values: 'hello', 87.8, 6\n",
    "\n",
    "Expression: \"*\", -, /, +"
   ]
  },
  {
   "cell_type": "markdown",
   "id": "cbd1c068",
   "metadata": {},
   "source": [
    "**2.** What is the difference between string and variable?"
   ]
  },
  {
   "cell_type": "markdown",
   "id": "39c43e39",
   "metadata": {},
   "source": [
    "**Ans:** The main difference between a string and a variable is that a string is a sequence of characters enclosed in quotation marks and used to represent text, while a variable is a name that refers to a value. In other words, a string is a type of data, while a variable is a container that holds a value."
   ]
  },
  {
   "cell_type": "markdown",
   "id": "2787c8c6",
   "metadata": {},
   "source": [
    "**3.** Describe three different data types."
   ]
  },
  {
   "cell_type": "markdown",
   "id": "1fe134e3",
   "metadata": {},
   "source": [
    "**Ans:** Three different data types are:\n",
    "\n",
    "Integer: This data type represents whole numbers, such as -3, -2, -1, 0, 1, 2, 3.\n",
    "\n",
    "Float: This data type represents decimal numbers, such as 3.14, -2.5, 0.75.\n",
    "\n",
    "Boolean: This data type represents a value that is either true or false."
   ]
  },
  {
   "cell_type": "markdown",
   "id": "36f3c545",
   "metadata": {},
   "source": [
    "**4.** What is an expression made up of? What do all expressions do?"
   ]
  },
  {
   "cell_type": "markdown",
   "id": "4643b5a9",
   "metadata": {},
   "source": [
    "**Ans:** An expression is made up of values, variables, and operators that are combined to produce a new value. All expressions have a value and a type. Expressions can be simple, like 2 + 3, or more complex, like (2 * 3) + 4 / 2."
   ]
  },
  {
   "cell_type": "markdown",
   "id": "76a17cc6",
   "metadata": {},
   "source": [
    "**5.** This assignment statements, like spam = 10. What is the difference between an\n",
    "expression and a statement?"
   ]
  },
  {
   "cell_type": "markdown",
   "id": "1655888d",
   "metadata": {},
   "source": [
    "**Ans:** An expression is a combination of values, variables, and operators that can be evaluated to produce a result. For example, 2 + 3 is an expression that evaluates to 5. On the other hand, a statement is a line of code that performs an action, such as assigning a value to a variable. For example, spam = 10 is a statement that assigns the value 10 to the variable spam. The main difference between an expression and a statement is that an expression has a value, while a statement does not."
   ]
  },
  {
   "cell_type": "markdown",
   "id": "8c7f4632",
   "metadata": {},
   "source": [
    "**6.** After running the following code, what does the variable bacon contain?\n",
    "\n",
    "bacon = 22\n",
    "\n",
    "bacon + 1"
   ]
  },
  {
   "cell_type": "markdown",
   "id": "3de1828e",
   "metadata": {},
   "source": [
    "**Ans:** The variable bacon contains the value 22, because the code only performs an addition operation on the value of bacon, but does not assign the result of the addition to the variable."
   ]
  },
  {
   "cell_type": "markdown",
   "id": "70b24086",
   "metadata": {},
   "source": [
    "**7.** What should the values of the following two terms be?\n",
    "\n",
    "&#39;spam&#39; + &#39;spamspam&#39;\n",
    "\n",
    "&#39;spam&#39; * 3"
   ]
  },
  {
   "cell_type": "markdown",
   "id": "2d0c6467",
   "metadata": {},
   "source": [
    "**Ans:** Both terms should evaluate to the string 'spamspamspam'. The first term concatenates the string 'spam' with the string 'spamspam', resulting in 'spamspamspam'. The second term multiplies the string 'spam' by 3, resulting in 'spamspamspam'."
   ]
  },
  {
   "cell_type": "markdown",
   "id": "33653ee0",
   "metadata": {},
   "source": [
    "**8.** Why is eggs a valid variable name while 100 is invalid?"
   ]
  },
  {
   "cell_type": "markdown",
   "id": "f52600aa",
   "metadata": {},
   "source": [
    "**Ans:** In Python, variable names must start with a letter or underscore character, and can only contain letters, digits, and underscores. Because 100 starts with a digit, it is not a valid variable name. Eggs, on the other hand, starts with a letter and only contains letters, so it is a valid variable name."
   ]
  },
  {
   "cell_type": "markdown",
   "id": "7c5b5531",
   "metadata": {},
   "source": [
    "**9.** What three functions can be used to get the integer, floating-point number, or string version of a value?"
   ]
  },
  {
   "cell_type": "markdown",
   "id": "7a2a986a",
   "metadata": {},
   "source": [
    "**Ans:** The int() function can be used to get the integer version of a value, the float() function can be used to get the floating-point number version of a value, and the str() function can be used to get the string version of a value."
   ]
  },
  {
   "cell_type": "markdown",
   "id": "8369b2d2",
   "metadata": {},
   "source": [
    "**10.** Why does this expression cause an error? How can you fix it?\n",
    "#### &#39;I have eaten &#39; + 99 + &#39; burritos.&#39;"
   ]
  },
  {
   "cell_type": "markdown",
   "id": "82470888",
   "metadata": {},
   "source": [
    "**Ans:** The expression causes an error because it tries to concatenate a string ('I have eaten ') with an integer (99) and another string ('burritos.'). To fix it, we can convert the integer 99 to a string using the str() function, like this: 'I have eaten ' + str(99) + ' burritos.'."
   ]
  }
 ],
 "metadata": {
  "kernelspec": {
   "display_name": "Python 3 (ipykernel)",
   "language": "python",
   "name": "python3"
  },
  "language_info": {
   "codemirror_mode": {
    "name": "ipython",
    "version": 3
   },
   "file_extension": ".py",
   "mimetype": "text/x-python",
   "name": "python",
   "nbconvert_exporter": "python",
   "pygments_lexer": "ipython3",
   "version": "3.9.13"
  }
 },
 "nbformat": 4,
 "nbformat_minor": 5
}
